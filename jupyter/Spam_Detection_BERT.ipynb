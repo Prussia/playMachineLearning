{
 "cells": [
  {
   "cell_type": "markdown",
   "id": "e3051705-e1cd-4a06-824a-79bdf7bdf959",
   "metadata": {},
   "source": [
    "# Spam Detection in SMS (text) data By BERT\n",
    "\n",
    "https://medium.com/artificialis/bert-model-for-classification-task-ham-or-spam-email-7dab2c1bd4d7"
   ]
  },
  {
   "cell_type": "code",
   "execution_count": null,
   "id": "e1bb6f29-a79b-4271-82b3-d6802d1f4a32",
   "metadata": {},
   "outputs": [],
   "source": []
  }
 ],
 "metadata": {
  "kernelspec": {
   "display_name": "Python 3 (ipykernel)",
   "language": "python",
   "name": "python3"
  },
  "language_info": {
   "codemirror_mode": {
    "name": "ipython",
    "version": 3
   },
   "file_extension": ".py",
   "mimetype": "text/x-python",
   "name": "python",
   "nbconvert_exporter": "python",
   "pygments_lexer": "ipython3",
   "version": "3.11.6"
  }
 },
 "nbformat": 4,
 "nbformat_minor": 5
}
